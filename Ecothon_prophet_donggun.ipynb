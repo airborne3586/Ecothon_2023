{
 "cells": [
  {
   "cell_type": "markdown",
   "id": "95c94203",
   "metadata": {},
   "source": [
    "# Prophet Model \n",
    "Prophet는 긴 시계열에 대해서 잘 학습하고, 아웃라이어나 노이즈에도 강건하다고 알려져 있다. 가볍고, 학습 속도가 빠르면서도, 분석이 용이하다고 판단으로 도입."
   ]
  },
  {
   "cell_type": "markdown",
   "id": "bf9dd8a8",
   "metadata": {},
   "source": [
    "### Prophet\n",
    "Prophet은 2017년에 Facebook(현 Meta)에서 Time-series를 다루기 위해서 만든 Library이다. 통계적인 지식 없이 Time-series 데이터를 기반으로 자동으로 Forecast를 수행해주며, 아웃라이어, 데이터 부재 등에도 비교적 강건하게 모델링을 수행한다.\n",
    "*참고 : 공식 홈페이지 Prophet\n",
    "\n",
    "Facebook에서는 전문적인 시계열 분석가나 통계 전문가의 도움 없이 ‘도메인’ 전문가가 스스로 시계열 데이터를 분석하고 적용할 수 있도록 도구를 확보했다. 기존의 통계 기반의 시계열 분석 모델인 ARIMA나 ETS, TBATS 등의 단점과 복잡성을 단순화한 모델을 개발하고 이를 Prophet으로 패키징하여 배포한 것."
   ]
  },
  {
   "cell_type": "code",
   "execution_count": 181,
   "id": "827ada92",
   "metadata": {
    "ExecuteTime": {
     "end_time": "2023-06-02T07:49:43.477642Z",
     "start_time": "2023-06-02T07:49:43.472038Z"
    }
   },
   "outputs": [],
   "source": [
    "import warnings\n",
    "warnings.filterwarnings('ignore')\n",
    "import pandas as pd\n",
    "import numpy as np\n",
    "import matplotlib.pyplot as plt"
   ]
  },
  {
   "cell_type": "code",
   "execution_count": 109,
   "id": "c1345c8e",
   "metadata": {
    "ExecuteTime": {
     "end_time": "2023-06-02T06:31:29.057532Z",
     "start_time": "2023-06-02T06:31:29.022115Z"
    }
   },
   "outputs": [
    {
     "data": {
      "text/html": [
       "<div>\n",
       "<style scoped>\n",
       "    .dataframe tbody tr th:only-of-type {\n",
       "        vertical-align: middle;\n",
       "    }\n",
       "\n",
       "    .dataframe tbody tr th {\n",
       "        vertical-align: top;\n",
       "    }\n",
       "\n",
       "    .dataframe thead th {\n",
       "        text-align: right;\n",
       "    }\n",
       "</style>\n",
       "<table border=\"1\" class=\"dataframe\">\n",
       "  <thead>\n",
       "    <tr style=\"text-align: right;\">\n",
       "      <th></th>\n",
       "      <th>1996 년</th>\n",
       "      <th>1997 년</th>\n",
       "      <th>1998 년</th>\n",
       "      <th>1999 년</th>\n",
       "      <th>2000 년</th>\n",
       "      <th>2001 년</th>\n",
       "      <th>2002 년</th>\n",
       "      <th>2003 년</th>\n",
       "      <th>2004 년</th>\n",
       "      <th>2005 년</th>\n",
       "      <th>...</th>\n",
       "      <th>2012 년</th>\n",
       "      <th>2013 년</th>\n",
       "      <th>2014 년</th>\n",
       "      <th>2015 년</th>\n",
       "      <th>2016 년</th>\n",
       "      <th>2017 년</th>\n",
       "      <th>2018 년</th>\n",
       "      <th>2019 년</th>\n",
       "      <th>2020년</th>\n",
       "      <th>2021년</th>\n",
       "    </tr>\n",
       "    <tr>\n",
       "      <th>구분1</th>\n",
       "      <th></th>\n",
       "      <th></th>\n",
       "      <th></th>\n",
       "      <th></th>\n",
       "      <th></th>\n",
       "      <th></th>\n",
       "      <th></th>\n",
       "      <th></th>\n",
       "      <th></th>\n",
       "      <th></th>\n",
       "      <th></th>\n",
       "      <th></th>\n",
       "      <th></th>\n",
       "      <th></th>\n",
       "      <th></th>\n",
       "      <th></th>\n",
       "      <th></th>\n",
       "      <th></th>\n",
       "      <th></th>\n",
       "      <th></th>\n",
       "      <th></th>\n",
       "    </tr>\n",
       "  </thead>\n",
       "  <tbody>\n",
       "    <tr>\n",
       "      <th>강원</th>\n",
       "      <td>59.0</td>\n",
       "      <td>37.9</td>\n",
       "      <td>40.9</td>\n",
       "      <td>63.0</td>\n",
       "      <td>66.0</td>\n",
       "      <td>91.5</td>\n",
       "      <td>122.1</td>\n",
       "      <td>102.0</td>\n",
       "      <td>123.1</td>\n",
       "      <td>126.0</td>\n",
       "      <td>...</td>\n",
       "      <td>169.7</td>\n",
       "      <td>153.5</td>\n",
       "      <td>204.1</td>\n",
       "      <td>161.7</td>\n",
       "      <td>137.3</td>\n",
       "      <td>162.7</td>\n",
       "      <td>196.3</td>\n",
       "      <td>264.7</td>\n",
       "      <td>104507.8</td>\n",
       "      <td>114571.8</td>\n",
       "    </tr>\n",
       "    <tr>\n",
       "      <th>경기</th>\n",
       "      <td>579.0</td>\n",
       "      <td>638.3</td>\n",
       "      <td>636.8</td>\n",
       "      <td>594.0</td>\n",
       "      <td>565.6</td>\n",
       "      <td>573.9</td>\n",
       "      <td>710.3</td>\n",
       "      <td>757.8</td>\n",
       "      <td>745.7</td>\n",
       "      <td>736.7</td>\n",
       "      <td>...</td>\n",
       "      <td>816.8</td>\n",
       "      <td>803.8</td>\n",
       "      <td>842.9</td>\n",
       "      <td>847.3</td>\n",
       "      <td>1017.4</td>\n",
       "      <td>1129.9</td>\n",
       "      <td>1301.5</td>\n",
       "      <td>1572.0</td>\n",
       "      <td>674379.0</td>\n",
       "      <td>789086.5</td>\n",
       "    </tr>\n",
       "    <tr>\n",
       "      <th>경남</th>\n",
       "      <td>173.0</td>\n",
       "      <td>116.5</td>\n",
       "      <td>154.1</td>\n",
       "      <td>168.7</td>\n",
       "      <td>179.1</td>\n",
       "      <td>229.7</td>\n",
       "      <td>261.2</td>\n",
       "      <td>263.0</td>\n",
       "      <td>279.5</td>\n",
       "      <td>301.8</td>\n",
       "      <td>...</td>\n",
       "      <td>374.4</td>\n",
       "      <td>310.2</td>\n",
       "      <td>360.9</td>\n",
       "      <td>307.6</td>\n",
       "      <td>336.4</td>\n",
       "      <td>331.2</td>\n",
       "      <td>335.0</td>\n",
       "      <td>409.1</td>\n",
       "      <td>160810.0</td>\n",
       "      <td>181060.0</td>\n",
       "    </tr>\n",
       "    <tr>\n",
       "      <th>경북</th>\n",
       "      <td>59.0</td>\n",
       "      <td>72.7</td>\n",
       "      <td>84.4</td>\n",
       "      <td>112.5</td>\n",
       "      <td>114.3</td>\n",
       "      <td>103.9</td>\n",
       "      <td>111.9</td>\n",
       "      <td>149.8</td>\n",
       "      <td>194.6</td>\n",
       "      <td>208.7</td>\n",
       "      <td>...</td>\n",
       "      <td>181.1</td>\n",
       "      <td>206.9</td>\n",
       "      <td>185.6</td>\n",
       "      <td>216.1</td>\n",
       "      <td>280.5</td>\n",
       "      <td>271.0</td>\n",
       "      <td>318.6</td>\n",
       "      <td>320.6</td>\n",
       "      <td>146123.6</td>\n",
       "      <td>147046.8</td>\n",
       "    </tr>\n",
       "    <tr>\n",
       "      <th>광주</th>\n",
       "      <td>42.0</td>\n",
       "      <td>49.5</td>\n",
       "      <td>52.4</td>\n",
       "      <td>58.2</td>\n",
       "      <td>63.6</td>\n",
       "      <td>52.4</td>\n",
       "      <td>129.8</td>\n",
       "      <td>115.8</td>\n",
       "      <td>134.3</td>\n",
       "      <td>134.0</td>\n",
       "      <td>...</td>\n",
       "      <td>124.1</td>\n",
       "      <td>133.4</td>\n",
       "      <td>128.9</td>\n",
       "      <td>141.6</td>\n",
       "      <td>138.5</td>\n",
       "      <td>119.8</td>\n",
       "      <td>135.3</td>\n",
       "      <td>129.6</td>\n",
       "      <td>51582.7</td>\n",
       "      <td>73882.0</td>\n",
       "    </tr>\n",
       "  </tbody>\n",
       "</table>\n",
       "<p>5 rows × 26 columns</p>\n",
       "</div>"
      ],
      "text/plain": [
       "     1996 년  1997 년  1998 년  1999 년  2000 년  2001 년  2002 년  2003 년  2004 년  \\\n",
       "구분1                                                                           \n",
       "강원     59.0    37.9    40.9    63.0    66.0    91.5   122.1   102.0   123.1   \n",
       "경기    579.0   638.3   636.8   594.0   565.6   573.9   710.3   757.8   745.7   \n",
       "경남    173.0   116.5   154.1   168.7   179.1   229.7   261.2   263.0   279.5   \n",
       "경북     59.0    72.7    84.4   112.5   114.3   103.9   111.9   149.8   194.6   \n",
       "광주     42.0    49.5    52.4    58.2    63.6    52.4   129.8   115.8   134.3   \n",
       "\n",
       "     2005 년  ...  2012 년  2013 년  2014 년  2015 년  2016 년  2017 년  2018 년  \\\n",
       "구분1          ...                                                           \n",
       "강원    126.0  ...   169.7   153.5   204.1   161.7   137.3   162.7   196.3   \n",
       "경기    736.7  ...   816.8   803.8   842.9   847.3  1017.4  1129.9  1301.5   \n",
       "경남    301.8  ...   374.4   310.2   360.9   307.6   336.4   331.2   335.0   \n",
       "경북    208.7  ...   181.1   206.9   185.6   216.1   280.5   271.0   318.6   \n",
       "광주    134.0  ...   124.1   133.4   128.9   141.6   138.5   119.8   135.3   \n",
       "\n",
       "     2019 년     2020년     2021년  \n",
       "구분1                              \n",
       "강원    264.7  104507.8  114571.8  \n",
       "경기   1572.0  674379.0  789086.5  \n",
       "경남    409.1  160810.0  181060.0  \n",
       "경북    320.6  146123.6  147046.8  \n",
       "광주    129.6   51582.7   73882.0  \n",
       "\n",
       "[5 rows x 26 columns]"
      ]
     },
     "execution_count": 109,
     "metadata": {},
     "output_type": "execute_result"
    }
   ],
   "source": [
    "df = pd.read_csv('life_all.csv')\n",
    "df = df.set_index('구분1')\n",
    "df.head()"
   ]
  },
  {
   "cell_type": "markdown",
   "id": "30155cc7",
   "metadata": {
    "heading_collapsed": true
   },
   "source": [
    "## 전처리"
   ]
  },
  {
   "cell_type": "code",
   "execution_count": 110,
   "id": "fe3edefd",
   "metadata": {
    "ExecuteTime": {
     "end_time": "2023-06-02T06:31:29.841064Z",
     "start_time": "2023-06-02T06:31:29.830726Z"
    },
    "hidden": true
   },
   "outputs": [],
   "source": [
    "df['2020 년'] = df['2020년'].apply(lambda x: x / 365)\n",
    "df['2021 년'] = df['2021년'].apply(lambda x: x / 365)\n",
    "df.drop(['2020년','2021년'], axis = 1, inplace = True)\n",
    "\n"
   ]
  },
  {
   "cell_type": "code",
   "execution_count": 111,
   "id": "4a1ed877",
   "metadata": {
    "ExecuteTime": {
     "end_time": "2023-06-02T06:31:30.248888Z",
     "start_time": "2023-06-02T06:31:30.219199Z"
    },
    "hidden": true,
    "scrolled": false
   },
   "outputs": [
    {
     "data": {
      "text/html": [
       "<div>\n",
       "<style scoped>\n",
       "    .dataframe tbody tr th:only-of-type {\n",
       "        vertical-align: middle;\n",
       "    }\n",
       "\n",
       "    .dataframe tbody tr th {\n",
       "        vertical-align: top;\n",
       "    }\n",
       "\n",
       "    .dataframe thead th {\n",
       "        text-align: right;\n",
       "    }\n",
       "</style>\n",
       "<table border=\"1\" class=\"dataframe\">\n",
       "  <thead>\n",
       "    <tr style=\"text-align: right;\">\n",
       "      <th>구분1</th>\n",
       "      <th>강원</th>\n",
       "      <th>경기</th>\n",
       "      <th>경남</th>\n",
       "      <th>경북</th>\n",
       "      <th>광주</th>\n",
       "      <th>대구</th>\n",
       "      <th>대전</th>\n",
       "      <th>부산</th>\n",
       "      <th>서울</th>\n",
       "      <th>울산</th>\n",
       "      <th>인천</th>\n",
       "      <th>전남</th>\n",
       "      <th>전북</th>\n",
       "      <th>제주</th>\n",
       "      <th>충남</th>\n",
       "      <th>충북</th>\n",
       "    </tr>\n",
       "  </thead>\n",
       "  <tbody>\n",
       "    <tr>\n",
       "      <th>1996 년</th>\n",
       "      <td>59.0</td>\n",
       "      <td>579.0</td>\n",
       "      <td>173.0</td>\n",
       "      <td>59.0</td>\n",
       "      <td>42.0</td>\n",
       "      <td>126.0</td>\n",
       "      <td>152.4</td>\n",
       "      <td>260.0</td>\n",
       "      <td>618.0</td>\n",
       "      <td>NaN</td>\n",
       "      <td>100.0</td>\n",
       "      <td>79.0</td>\n",
       "      <td>63.0</td>\n",
       "      <td>19.9</td>\n",
       "      <td>64.0</td>\n",
       "      <td>48.9</td>\n",
       "    </tr>\n",
       "    <tr>\n",
       "      <th>1997 년</th>\n",
       "      <td>37.9</td>\n",
       "      <td>638.3</td>\n",
       "      <td>116.5</td>\n",
       "      <td>72.7</td>\n",
       "      <td>49.5</td>\n",
       "      <td>131.3</td>\n",
       "      <td>156.5</td>\n",
       "      <td>249.0</td>\n",
       "      <td>599.4</td>\n",
       "      <td>61.8</td>\n",
       "      <td>100.7</td>\n",
       "      <td>76.4</td>\n",
       "      <td>64.7</td>\n",
       "      <td>29.7</td>\n",
       "      <td>79.7</td>\n",
       "      <td>53.8</td>\n",
       "    </tr>\n",
       "    <tr>\n",
       "      <th>1998 년</th>\n",
       "      <td>40.9</td>\n",
       "      <td>636.8</td>\n",
       "      <td>154.1</td>\n",
       "      <td>84.4</td>\n",
       "      <td>52.4</td>\n",
       "      <td>197.3</td>\n",
       "      <td>126.7</td>\n",
       "      <td>242.5</td>\n",
       "      <td>506.6</td>\n",
       "      <td>52.2</td>\n",
       "      <td>152.9</td>\n",
       "      <td>85.8</td>\n",
       "      <td>64.5</td>\n",
       "      <td>14.9</td>\n",
       "      <td>77.0</td>\n",
       "      <td>73.0</td>\n",
       "    </tr>\n",
       "    <tr>\n",
       "      <th>1999 년</th>\n",
       "      <td>63.0</td>\n",
       "      <td>594.0</td>\n",
       "      <td>168.7</td>\n",
       "      <td>112.5</td>\n",
       "      <td>58.2</td>\n",
       "      <td>244.5</td>\n",
       "      <td>136.3</td>\n",
       "      <td>290.3</td>\n",
       "      <td>589.2</td>\n",
       "      <td>66.9</td>\n",
       "      <td>145.3</td>\n",
       "      <td>75.0</td>\n",
       "      <td>96.1</td>\n",
       "      <td>22.0</td>\n",
       "      <td>70.9</td>\n",
       "      <td>53.8</td>\n",
       "    </tr>\n",
       "    <tr>\n",
       "      <th>2000 년</th>\n",
       "      <td>66.0</td>\n",
       "      <td>565.6</td>\n",
       "      <td>179.1</td>\n",
       "      <td>114.3</td>\n",
       "      <td>63.6</td>\n",
       "      <td>261.4</td>\n",
       "      <td>114.9</td>\n",
       "      <td>260.9</td>\n",
       "      <td>652.2</td>\n",
       "      <td>74.3</td>\n",
       "      <td>201.9</td>\n",
       "      <td>73.3</td>\n",
       "      <td>92.5</td>\n",
       "      <td>16.2</td>\n",
       "      <td>77.7</td>\n",
       "      <td>55.1</td>\n",
       "    </tr>\n",
       "  </tbody>\n",
       "</table>\n",
       "</div>"
      ],
      "text/plain": [
       "구분1       강원     경기     경남     경북    광주     대구     대전     부산     서울    울산  \\\n",
       "1996 년  59.0  579.0  173.0   59.0  42.0  126.0  152.4  260.0  618.0   NaN   \n",
       "1997 년  37.9  638.3  116.5   72.7  49.5  131.3  156.5  249.0  599.4  61.8   \n",
       "1998 년  40.9  636.8  154.1   84.4  52.4  197.3  126.7  242.5  506.6  52.2   \n",
       "1999 년  63.0  594.0  168.7  112.5  58.2  244.5  136.3  290.3  589.2  66.9   \n",
       "2000 년  66.0  565.6  179.1  114.3  63.6  261.4  114.9  260.9  652.2  74.3   \n",
       "\n",
       "구분1        인천    전남    전북    제주    충남    충북  \n",
       "1996 년  100.0  79.0  63.0  19.9  64.0  48.9  \n",
       "1997 년  100.7  76.4  64.7  29.7  79.7  53.8  \n",
       "1998 년  152.9  85.8  64.5  14.9  77.0  73.0  \n",
       "1999 년  145.3  75.0  96.1  22.0  70.9  53.8  \n",
       "2000 년  201.9  73.3  92.5  16.2  77.7  55.1  "
      ]
     },
     "execution_count": 111,
     "metadata": {},
     "output_type": "execute_result"
    }
   ],
   "source": [
    "df_t = df.transpose()\n",
    "df_t.drop(['세종'], axis = 1, inplace = True ) #데이터 부족 \n",
    "df_t['울산'] = df_t['울산'].replace(0, np.nan) #측정되지 않는 값\n",
    "df_t.head()"
   ]
  },
  {
   "cell_type": "code",
   "execution_count": 120,
   "id": "5e8b9aa0",
   "metadata": {
    "ExecuteTime": {
     "end_time": "2023-06-02T06:33:59.652374Z",
     "start_time": "2023-06-02T06:33:59.640691Z"
    },
    "hidden": true
   },
   "outputs": [],
   "source": [
    "df_t = df.transpose()\n",
    "\n",
    "\n",
    "df_t.drop(['세종'], axis = 1, inplace = True ) #데이터 부족 \n",
    "df_t['울산'] = df_t['울산'].replace(0, np.nan) #측정되지 않는 값\n",
    "\n"
   ]
  },
  {
   "cell_type": "code",
   "execution_count": 121,
   "id": "e0c9c96f",
   "metadata": {
    "ExecuteTime": {
     "end_time": "2023-06-02T06:34:00.274169Z",
     "start_time": "2023-06-02T06:34:00.246731Z"
    },
    "hidden": true
   },
   "outputs": [
    {
     "data": {
      "text/html": [
       "<div>\n",
       "<style scoped>\n",
       "    .dataframe tbody tr th:only-of-type {\n",
       "        vertical-align: middle;\n",
       "    }\n",
       "\n",
       "    .dataframe tbody tr th {\n",
       "        vertical-align: top;\n",
       "    }\n",
       "\n",
       "    .dataframe thead th {\n",
       "        text-align: right;\n",
       "    }\n",
       "</style>\n",
       "<table border=\"1\" class=\"dataframe\">\n",
       "  <thead>\n",
       "    <tr style=\"text-align: right;\">\n",
       "      <th>구분1</th>\n",
       "      <th>강원</th>\n",
       "      <th>경기</th>\n",
       "      <th>경남</th>\n",
       "      <th>경북</th>\n",
       "      <th>광주</th>\n",
       "      <th>대구</th>\n",
       "      <th>대전</th>\n",
       "      <th>부산</th>\n",
       "      <th>서울</th>\n",
       "      <th>울산</th>\n",
       "      <th>인천</th>\n",
       "      <th>전남</th>\n",
       "      <th>전북</th>\n",
       "      <th>제주</th>\n",
       "      <th>충남</th>\n",
       "      <th>충북</th>\n",
       "    </tr>\n",
       "  </thead>\n",
       "  <tbody>\n",
       "    <tr>\n",
       "      <th>1996</th>\n",
       "      <td>59.0</td>\n",
       "      <td>579.0</td>\n",
       "      <td>173.0</td>\n",
       "      <td>59.0</td>\n",
       "      <td>42.0</td>\n",
       "      <td>126.0</td>\n",
       "      <td>152.4</td>\n",
       "      <td>260.0</td>\n",
       "      <td>618.0</td>\n",
       "      <td>NaN</td>\n",
       "      <td>100.0</td>\n",
       "      <td>79.0</td>\n",
       "      <td>63.0</td>\n",
       "      <td>19.9</td>\n",
       "      <td>64.0</td>\n",
       "      <td>48.9</td>\n",
       "    </tr>\n",
       "    <tr>\n",
       "      <th>1997</th>\n",
       "      <td>37.9</td>\n",
       "      <td>638.3</td>\n",
       "      <td>116.5</td>\n",
       "      <td>72.7</td>\n",
       "      <td>49.5</td>\n",
       "      <td>131.3</td>\n",
       "      <td>156.5</td>\n",
       "      <td>249.0</td>\n",
       "      <td>599.4</td>\n",
       "      <td>61.8</td>\n",
       "      <td>100.7</td>\n",
       "      <td>76.4</td>\n",
       "      <td>64.7</td>\n",
       "      <td>29.7</td>\n",
       "      <td>79.7</td>\n",
       "      <td>53.8</td>\n",
       "    </tr>\n",
       "    <tr>\n",
       "      <th>1998</th>\n",
       "      <td>40.9</td>\n",
       "      <td>636.8</td>\n",
       "      <td>154.1</td>\n",
       "      <td>84.4</td>\n",
       "      <td>52.4</td>\n",
       "      <td>197.3</td>\n",
       "      <td>126.7</td>\n",
       "      <td>242.5</td>\n",
       "      <td>506.6</td>\n",
       "      <td>52.2</td>\n",
       "      <td>152.9</td>\n",
       "      <td>85.8</td>\n",
       "      <td>64.5</td>\n",
       "      <td>14.9</td>\n",
       "      <td>77.0</td>\n",
       "      <td>73.0</td>\n",
       "    </tr>\n",
       "    <tr>\n",
       "      <th>1999</th>\n",
       "      <td>63.0</td>\n",
       "      <td>594.0</td>\n",
       "      <td>168.7</td>\n",
       "      <td>112.5</td>\n",
       "      <td>58.2</td>\n",
       "      <td>244.5</td>\n",
       "      <td>136.3</td>\n",
       "      <td>290.3</td>\n",
       "      <td>589.2</td>\n",
       "      <td>66.9</td>\n",
       "      <td>145.3</td>\n",
       "      <td>75.0</td>\n",
       "      <td>96.1</td>\n",
       "      <td>22.0</td>\n",
       "      <td>70.9</td>\n",
       "      <td>53.8</td>\n",
       "    </tr>\n",
       "    <tr>\n",
       "      <th>2000</th>\n",
       "      <td>66.0</td>\n",
       "      <td>565.6</td>\n",
       "      <td>179.1</td>\n",
       "      <td>114.3</td>\n",
       "      <td>63.6</td>\n",
       "      <td>261.4</td>\n",
       "      <td>114.9</td>\n",
       "      <td>260.9</td>\n",
       "      <td>652.2</td>\n",
       "      <td>74.3</td>\n",
       "      <td>201.9</td>\n",
       "      <td>73.3</td>\n",
       "      <td>92.5</td>\n",
       "      <td>16.2</td>\n",
       "      <td>77.7</td>\n",
       "      <td>55.1</td>\n",
       "    </tr>\n",
       "  </tbody>\n",
       "</table>\n",
       "</div>"
      ],
      "text/plain": [
       "구분1      강원     경기     경남     경북    광주     대구     대전     부산     서울    울산  \\\n",
       "1996   59.0  579.0  173.0   59.0  42.0  126.0  152.4  260.0  618.0   NaN   \n",
       "1997   37.9  638.3  116.5   72.7  49.5  131.3  156.5  249.0  599.4  61.8   \n",
       "1998   40.9  636.8  154.1   84.4  52.4  197.3  126.7  242.5  506.6  52.2   \n",
       "1999   63.0  594.0  168.7  112.5  58.2  244.5  136.3  290.3  589.2  66.9   \n",
       "2000   66.0  565.6  179.1  114.3  63.6  261.4  114.9  260.9  652.2  74.3   \n",
       "\n",
       "구분1       인천    전남    전북    제주    충남    충북  \n",
       "1996   100.0  79.0  63.0  19.9  64.0  48.9  \n",
       "1997   100.7  76.4  64.7  29.7  79.7  53.8  \n",
       "1998   152.9  85.8  64.5  14.9  77.0  73.0  \n",
       "1999   145.3  75.0  96.1  22.0  70.9  53.8  \n",
       "2000   201.9  73.3  92.5  16.2  77.7  55.1  "
      ]
     },
     "execution_count": 121,
     "metadata": {},
     "output_type": "execute_result"
    }
   ],
   "source": [
    "df_t.index = df_t.index.str.replace(\"년\", \"\")  # '년'제거 \n",
    "\n",
    "df_t.head()"
   ]
  },
  {
   "cell_type": "code",
   "execution_count": 129,
   "id": "5331c5e9",
   "metadata": {
    "ExecuteTime": {
     "end_time": "2023-06-02T06:37:30.289625Z",
     "start_time": "2023-06-02T06:37:30.280825Z"
    },
    "hidden": true,
    "scrolled": false
   },
   "outputs": [],
   "source": [
    "#to_datetime\n",
    "df_t.index = pd.to_datetime(df_t.index)\n",
    "df_t.index = df_t.index.strftime('%Y')\n"
   ]
  },
  {
   "cell_type": "code",
   "execution_count": 130,
   "id": "c4e80620",
   "metadata": {
    "ExecuteTime": {
     "end_time": "2023-06-02T06:37:32.325934Z",
     "start_time": "2023-06-02T06:37:32.298521Z"
    },
    "hidden": true
   },
   "outputs": [
    {
     "data": {
      "text/html": [
       "<div>\n",
       "<style scoped>\n",
       "    .dataframe tbody tr th:only-of-type {\n",
       "        vertical-align: middle;\n",
       "    }\n",
       "\n",
       "    .dataframe tbody tr th {\n",
       "        vertical-align: top;\n",
       "    }\n",
       "\n",
       "    .dataframe thead th {\n",
       "        text-align: right;\n",
       "    }\n",
       "</style>\n",
       "<table border=\"1\" class=\"dataframe\">\n",
       "  <thead>\n",
       "    <tr style=\"text-align: right;\">\n",
       "      <th>구분1</th>\n",
       "      <th>index</th>\n",
       "      <th>강원</th>\n",
       "      <th>경기</th>\n",
       "      <th>경남</th>\n",
       "      <th>경북</th>\n",
       "      <th>광주</th>\n",
       "      <th>대구</th>\n",
       "      <th>대전</th>\n",
       "      <th>부산</th>\n",
       "      <th>서울</th>\n",
       "      <th>울산</th>\n",
       "      <th>인천</th>\n",
       "      <th>전남</th>\n",
       "      <th>전북</th>\n",
       "      <th>제주</th>\n",
       "      <th>충남</th>\n",
       "      <th>충북</th>\n",
       "    </tr>\n",
       "  </thead>\n",
       "  <tbody>\n",
       "    <tr>\n",
       "      <th>0</th>\n",
       "      <td>1996</td>\n",
       "      <td>59.0</td>\n",
       "      <td>579.0</td>\n",
       "      <td>173.0</td>\n",
       "      <td>59.0</td>\n",
       "      <td>42.0</td>\n",
       "      <td>126.0</td>\n",
       "      <td>152.4</td>\n",
       "      <td>260.0</td>\n",
       "      <td>618.0</td>\n",
       "      <td>NaN</td>\n",
       "      <td>100.0</td>\n",
       "      <td>79.0</td>\n",
       "      <td>63.0</td>\n",
       "      <td>19.9</td>\n",
       "      <td>64.0</td>\n",
       "      <td>48.9</td>\n",
       "    </tr>\n",
       "    <tr>\n",
       "      <th>1</th>\n",
       "      <td>1997</td>\n",
       "      <td>37.9</td>\n",
       "      <td>638.3</td>\n",
       "      <td>116.5</td>\n",
       "      <td>72.7</td>\n",
       "      <td>49.5</td>\n",
       "      <td>131.3</td>\n",
       "      <td>156.5</td>\n",
       "      <td>249.0</td>\n",
       "      <td>599.4</td>\n",
       "      <td>61.8</td>\n",
       "      <td>100.7</td>\n",
       "      <td>76.4</td>\n",
       "      <td>64.7</td>\n",
       "      <td>29.7</td>\n",
       "      <td>79.7</td>\n",
       "      <td>53.8</td>\n",
       "    </tr>\n",
       "    <tr>\n",
       "      <th>2</th>\n",
       "      <td>1998</td>\n",
       "      <td>40.9</td>\n",
       "      <td>636.8</td>\n",
       "      <td>154.1</td>\n",
       "      <td>84.4</td>\n",
       "      <td>52.4</td>\n",
       "      <td>197.3</td>\n",
       "      <td>126.7</td>\n",
       "      <td>242.5</td>\n",
       "      <td>506.6</td>\n",
       "      <td>52.2</td>\n",
       "      <td>152.9</td>\n",
       "      <td>85.8</td>\n",
       "      <td>64.5</td>\n",
       "      <td>14.9</td>\n",
       "      <td>77.0</td>\n",
       "      <td>73.0</td>\n",
       "    </tr>\n",
       "    <tr>\n",
       "      <th>3</th>\n",
       "      <td>1999</td>\n",
       "      <td>63.0</td>\n",
       "      <td>594.0</td>\n",
       "      <td>168.7</td>\n",
       "      <td>112.5</td>\n",
       "      <td>58.2</td>\n",
       "      <td>244.5</td>\n",
       "      <td>136.3</td>\n",
       "      <td>290.3</td>\n",
       "      <td>589.2</td>\n",
       "      <td>66.9</td>\n",
       "      <td>145.3</td>\n",
       "      <td>75.0</td>\n",
       "      <td>96.1</td>\n",
       "      <td>22.0</td>\n",
       "      <td>70.9</td>\n",
       "      <td>53.8</td>\n",
       "    </tr>\n",
       "    <tr>\n",
       "      <th>4</th>\n",
       "      <td>2000</td>\n",
       "      <td>66.0</td>\n",
       "      <td>565.6</td>\n",
       "      <td>179.1</td>\n",
       "      <td>114.3</td>\n",
       "      <td>63.6</td>\n",
       "      <td>261.4</td>\n",
       "      <td>114.9</td>\n",
       "      <td>260.9</td>\n",
       "      <td>652.2</td>\n",
       "      <td>74.3</td>\n",
       "      <td>201.9</td>\n",
       "      <td>73.3</td>\n",
       "      <td>92.5</td>\n",
       "      <td>16.2</td>\n",
       "      <td>77.7</td>\n",
       "      <td>55.1</td>\n",
       "    </tr>\n",
       "  </tbody>\n",
       "</table>\n",
       "</div>"
      ],
      "text/plain": [
       "구분1 index    강원     경기     경남     경북    광주     대구     대전     부산     서울    울산  \\\n",
       "0    1996  59.0  579.0  173.0   59.0  42.0  126.0  152.4  260.0  618.0   NaN   \n",
       "1    1997  37.9  638.3  116.5   72.7  49.5  131.3  156.5  249.0  599.4  61.8   \n",
       "2    1998  40.9  636.8  154.1   84.4  52.4  197.3  126.7  242.5  506.6  52.2   \n",
       "3    1999  63.0  594.0  168.7  112.5  58.2  244.5  136.3  290.3  589.2  66.9   \n",
       "4    2000  66.0  565.6  179.1  114.3  63.6  261.4  114.9  260.9  652.2  74.3   \n",
       "\n",
       "구분1     인천    전남    전북    제주    충남    충북  \n",
       "0    100.0  79.0  63.0  19.9  64.0  48.9  \n",
       "1    100.7  76.4  64.7  29.7  79.7  53.8  \n",
       "2    152.9  85.8  64.5  14.9  77.0  73.0  \n",
       "3    145.3  75.0  96.1  22.0  70.9  53.8  \n",
       "4    201.9  73.3  92.5  16.2  77.7  55.1  "
      ]
     },
     "execution_count": 130,
     "metadata": {},
     "output_type": "execute_result"
    }
   ],
   "source": [
    "#시간 열로 변경 \n",
    "df_r = df_t.reset_index() \n",
    "df_r.head()"
   ]
  },
  {
   "cell_type": "markdown",
   "id": "b248d8c4",
   "metadata": {},
   "source": [
    "## 예측"
   ]
  },
  {
   "cell_type": "code",
   "execution_count": 123,
   "id": "aac89060",
   "metadata": {
    "ExecuteTime": {
     "end_time": "2023-06-02T06:34:07.473893Z",
     "start_time": "2023-06-02T06:34:07.469315Z"
    }
   },
   "outputs": [],
   "source": [
    "from prophet import Prophet\n",
    "from sklearn.metrics import mean_absolute_error, mean_absolute_percentage_error"
   ]
  },
  {
   "cell_type": "markdown",
   "id": "9ff410c7",
   "metadata": {
    "heading_collapsed": true
   },
   "source": [
    "### 서울"
   ]
  },
  {
   "cell_type": "code",
   "execution_count": 219,
   "id": "124b2564",
   "metadata": {
    "ExecuteTime": {
     "end_time": "2023-06-02T08:12:06.881930Z",
     "start_time": "2023-06-02T08:12:06.874683Z"
    },
    "hidden": true
   },
   "outputs": [],
   "source": [
    "# 데이터 준비\n",
    "data = df_r[['index', '서울']]  # 날짜와 예측 대상 변수 선택\n",
    "data.columns = ['ds', 'y']  # 열 이름 변경\n"
   ]
  },
  {
   "cell_type": "markdown",
   "id": "1a6c6f53",
   "metadata": {
    "ExecuteTime": {
     "end_time": "2023-06-02T07:42:15.187457Z",
     "start_time": "2023-06-02T07:42:15.179147Z"
    },
    "hidden": true
   },
   "source": [
    "#### In-Sample Forecast\n",
    "\n",
    "우선 미래나 과거를 예측하기 전에 우리가 학습으로 사용한 데이터부터 잘 예측이 되는지 확인해 볼 필요가 있다.\n",
    "\n",
    "이를 In-Sample Forecast라고 하며, 이 결과를 검토함으로써 모델이 얼마나 좋은지 확인할 수 있다. 즉 train set을 얼마나 잘 학습했는가를 판단하는 것이다.\n",
    "\n"
   ]
  },
  {
   "cell_type": "code",
   "execution_count": 250,
   "id": "bbcf9332",
   "metadata": {
    "ExecuteTime": {
     "end_time": "2023-06-02T10:02:06.753701Z",
     "start_time": "2023-06-02T10:02:06.359825Z"
    },
    "hidden": true
   },
   "outputs": [
    {
     "name": "stderr",
     "output_type": "stream",
     "text": [
      "INFO:prophet:Disabling weekly seasonality. Run prophet with weekly_seasonality=True to override this.\n",
      "INFO:prophet:Disabling daily seasonality. Run prophet with daily_seasonality=True to override this.\n",
      "INFO:prophet:n_changepoints greater than number of observations. Using 19.\n"
     ]
    },
    {
     "name": "stdout",
     "output_type": "stream",
     "text": [
      "\n"
     ]
    },
    {
     "data": {
      "text/plain": [
       "<prophet.forecaster.Prophet at 0x7f960803a940>"
      ]
     },
     "execution_count": 250,
     "metadata": {},
     "output_type": "execute_result"
    },
    {
     "name": "stdout",
     "output_type": "stream",
     "text": [
      "Initial log joint probability = -52.8437\n",
      "Iteration  1. Log joint probability =    11.3407. Improved by 64.1844.\n",
      "Iteration  2. Log joint probability =    23.0879. Improved by 11.7472.\n",
      "Iteration  3. Log joint probability =    30.2303. Improved by 7.14231.\n",
      "Iteration  4. Log joint probability =    35.6005. Improved by 5.37021.\n",
      "Iteration  5. Log joint probability =    35.7399. Improved by 0.139386.\n",
      "Iteration  6. Log joint probability =    35.7574. Improved by 0.0175284.\n",
      "Iteration  7. Log joint probability =    35.7729. Improved by 0.015545.\n",
      "Iteration  8. Log joint probability =    35.8035. Improved by 0.0305954.\n",
      "Iteration  9. Log joint probability =    35.8098. Improved by 0.00627523.\n",
      "Iteration 10. Log joint probability =    35.8377. Improved by 0.027915.\n",
      "Iteration 11. Log joint probability =    35.8832. Improved by 0.0455127.\n",
      "Iteration 12. Log joint probability =    35.9296. Improved by 0.0463359.\n",
      "Iteration 13. Log joint probability =    36.0665. Improved by 0.136979.\n",
      "Iteration 14. Log joint probability =    36.0874. Improved by 0.0208202.\n",
      "Iteration 15. Log joint probability =    36.1072. Improved by 0.0198684.\n",
      "Iteration 16. Log joint probability =    36.1203. Improved by 0.0130386.\n",
      "Iteration 17. Log joint probability =     36.129. Improved by 0.00872464.\n",
      "Iteration 18. Log joint probability =     36.169. Improved by 0.0399988.\n",
      "Iteration 19. Log joint probability =    36.2066. Improved by 0.0376154.\n",
      "Iteration 20. Log joint probability =    36.2102. Improved by 0.00364361.\n",
      "Iteration 21. Log joint probability =    36.2244. Improved by 0.0141463.\n",
      "Iteration 22. Log joint probability =     36.227. Improved by 0.0026512.\n",
      "Iteration 23. Log joint probability =    36.2301. Improved by 0.00306336.\n",
      "Iteration 24. Log joint probability =    36.2352. Improved by 0.00508413.\n",
      "Iteration 25. Log joint probability =    36.2404. Improved by 0.00521463.\n",
      "Iteration 26. Log joint probability =    36.2427. Improved by 0.00226442.\n",
      "Iteration 27. Log joint probability =    36.2442. Improved by 0.00155004.\n",
      "Iteration 28. Log joint probability =    36.2463. Improved by 0.00210002.\n",
      "Iteration 29. Log joint probability =    36.2464. Improved by 7.15567e-05.\n",
      "Iteration 30. Log joint probability =    36.2475. Improved by 0.00111172.\n",
      "Iteration 31. Log joint probability =    36.2483. Improved by 0.00079456.\n",
      "Iteration 32. Log joint probability =    36.2486. Improved by 0.000266045.\n",
      "Iteration 33. Log joint probability =    36.2492. Improved by 0.000617818.\n",
      "Iteration 34. Log joint probability =    36.2496. Improved by 0.000453564.\n",
      "Iteration 35. Log joint probability =    36.2499. Improved by 0.000302164.\n",
      "Iteration 36. Log joint probability =      36.25. Improved by 2.61261e-05.\n",
      "Iteration 37. Log joint probability =      36.25. Improved by 6.38966e-05.\n",
      "Iteration 38. Log joint probability =    36.2501. Improved by 0.000105288.\n",
      "Iteration 39. Log joint probability =    36.2502. Improved by 6.97809e-05.\n",
      "Iteration 40. Log joint probability =    36.2503. Improved by 5.39965e-05.\n",
      "Iteration 41. Log joint probability =    36.2503. Improved by 3.13719e-05.\n",
      "Iteration 42. Log joint probability =    36.2504. Improved by 0.000116599.\n",
      "Iteration 43. Log joint probability =    36.2504. Improved by 4.03569e-05.\n",
      "Iteration 44. Log joint probability =    36.2505. Improved by 8.79455e-06.\n",
      "Iteration 45. Log joint probability =    36.2505. Improved by 1.20089e-05.\n",
      "Iteration 46. Log joint probability =    36.2505. Improved by 2.93531e-05.\n",
      "Iteration 47. Log joint probability =    36.2505. Improved by 5.85422e-06.\n",
      "Iteration 48. Log joint probability =    36.2505. Improved by 8.94896e-06.\n",
      "Iteration 49. Log joint probability =    36.2505. Improved by 8.20651e-07.\n",
      "Iteration 50. Log joint probability =    36.2505. Improved by 7.37398e-06.\n",
      "Iteration 51. Log joint probability =    36.2505. Improved by 1.74846e-06.\n",
      "Iteration 52. Log joint probability =    36.2505. Improved by 2.44926e-06.\n",
      "Iteration 53. Log joint probability =    36.2505. Improved by 2.49107e-06.\n",
      "Iteration 54. Log joint probability =    36.2505. Improved by 9.29086e-07.\n",
      "Iteration 55. Log joint probability =    36.2505. Improved by 6.89747e-07.\n",
      "Iteration 56. Log joint probability =    36.2505. Improved by 6.77143e-07.\n",
      "Iteration 57. Log joint probability =    36.2505. Improved by 2.9784e-07.\n",
      "Iteration 58. Log joint probability =    36.2505. Improved by 1.51946e-07.\n",
      "Iteration 59. Log joint probability =    36.2505. Improved by 5.02359e-07.\n",
      "Iteration 60. Log joint probability =    36.2505. Improved by 5.19163e-08.\n",
      "Iteration 61. Log joint probability =    36.2505. Improved by 6.81042e-08.\n",
      "Iteration 62. Log joint probability =    36.2505. Improved by 2.26309e-07.\n",
      "Iteration 63. Log joint probability =    36.2505. Improved by 2.56492e-08.\n",
      "Iteration 64. Log joint probability =    36.2505. Improved by 3.08897e-08.\n",
      "Iteration 65. Log joint probability =    36.2505. Improved by 4.30362e-08.\n",
      "Iteration 66. Log joint probability =    36.2505. Improved by 1.0275e-07.\n",
      "Iteration 67. Log joint probability =    36.2505. Improved by 1.04328e-08.\n",
      "Iteration 68. Log joint probability =    36.2505. Improved by 3.31501e-08.\n",
      "Iteration 69. Log joint probability =    36.2505. Improved by 2.51587e-08.\n",
      "Iteration 70. Log joint probability =    36.2505. Improved by 4.68694e-08.\n",
      "Iteration 71. Log joint probability =    36.2505. Improved by 3.38036e-09.\n"
     ]
    }
   ],
   "source": [
    "# 데이터 준비\n",
    "data = df_r[['index', '서울']]  # 날짜와 예측 대상 변수 선택\n",
    "data.columns = ['ds', 'y']  # 열 이름 변경\n",
    "\n",
    "#모델생성\n",
    "model = Prophet()\n",
    "\n",
    "# 모델 학습\n",
    "model.fit(data)"
   ]
  },
  {
   "cell_type": "code",
   "execution_count": 251,
   "id": "5d676a40",
   "metadata": {
    "ExecuteTime": {
     "end_time": "2023-06-02T10:02:09.178866Z",
     "start_time": "2023-06-02T10:02:09.169824Z"
    },
    "hidden": true
   },
   "outputs": [],
   "source": [
    "# train set 마지막 5년 날짜 생성\n",
    "start_year = 2017\n",
    "end_year = start_year + 5\n",
    "\n",
    "last_5years = list()\n",
    "for year in range(start_year, end_year):\n",
    "    last_5years.append([str(year)])\n",
    "last_5years = pd.DataFrame(last_5years, columns=['ds'])\n",
    "last_5years['ds'] = pd.to_datetime(last_5years['ds'])"
   ]
  },
  {
   "cell_type": "code",
   "execution_count": 252,
   "id": "39dc51f0",
   "metadata": {
    "ExecuteTime": {
     "end_time": "2023-06-02T10:02:12.465500Z",
     "start_time": "2023-06-02T10:02:11.655835Z"
    },
    "hidden": true
   },
   "outputs": [],
   "source": [
    "# 예측\n",
    "forecast = model.predict(last_5years)"
   ]
  },
  {
   "cell_type": "code",
   "execution_count": 253,
   "id": "63c27b04",
   "metadata": {
    "ExecuteTime": {
     "end_time": "2023-06-02T10:02:14.549066Z",
     "start_time": "2023-06-02T10:02:14.409430Z"
    },
    "hidden": true
   },
   "outputs": [
    {
     "data": {
      "image/png": "[encoded data removed]",
      "text/plain": [
       "<Figure size 720x432 with 1 Axes>"
      ]
     },
     "metadata": {},
     "output_type": "display_data"
    }
   ],
   "source": [
    "model.plot(forecast)\n",
    "plt.show()"
   ]
  },
  {
   "cell_type": "markdown",
   "id": "ef7082ec",
   "metadata": {
    "hidden": true
   },
   "source": [
    "#### Out-Of-Sample Forecast\n",
    "이제 미래를 예측한다"
   ]
  },
  {
   "cell_type": "code",
   "execution_count": 254,
   "id": "636fa4ad",
   "metadata": {
    "ExecuteTime": {
     "end_time": "2023-06-02T10:02:17.180078Z",
     "start_time": "2023-06-02T10:02:17.171076Z"
    },
    "hidden": true
   },
   "outputs": [],
   "source": [
    "start_year = 2022\n",
    "end_year = start_year + 5\n",
    "\n",
    "# train set 이후 5년  생성\n",
    "last_5years = list()\n",
    "for year in range(start_year, end_year):\n",
    "    last_5years.append([str(year)])\n",
    "last_5years = pd.DataFrame(last_5years, columns=['ds'])\n",
    "last_5years['ds'] = pd.to_datetime(last_5years['ds'])"
   ]
  },
  {
   "cell_type": "code",
   "execution_count": 255,
   "id": "354c70f4",
   "metadata": {
    "ExecuteTime": {
     "end_time": "2023-06-02T10:02:19.264859Z",
     "start_time": "2023-06-02T10:02:18.586292Z"
    },
    "hidden": true
   },
   "outputs": [
    {
     "data": {
      "image/png": "[encoded data removed]",
      "text/plain": [
       "<Figure size 720x432 with 1 Axes>"
      ]
     },
     "metadata": {},
     "output_type": "display_data"
    }
   ],
   "source": [
    "forecast = model.predict(last_5years)\n",
    "model.plot(forecast)\n",
    "plt.show()"
   ]
  },
  {
   "cell_type": "markdown",
   "id": "14823ecc",
   "metadata": {
    "hidden": true
   },
   "source": [
    "#### 평가"
   ]
  },
  {
   "cell_type": "code",
   "execution_count": 256,
   "id": "05c59970",
   "metadata": {
    "ExecuteTime": {
     "end_time": "2023-06-02T10:02:21.925432Z",
     "start_time": "2023-06-02T10:02:21.240242Z"
    },
    "hidden": true
   },
   "outputs": [
    {
     "name": "stderr",
     "output_type": "stream",
     "text": [
      "INFO:prophet:Disabling weekly seasonality. Run prophet with weekly_seasonality=True to override this.\n",
      "INFO:prophet:Disabling daily seasonality. Run prophet with daily_seasonality=True to override this.\n",
      "INFO:prophet:n_changepoints greater than number of observations. Using 15.\n"
     ]
    },
    {
     "name": "stdout",
     "output_type": "stream",
     "text": [
      "\n",
      "Initial log joint probability = -57.1681\n",
      "Iteration  1. Log joint probability =    13.9684. Improved by 71.1365.\n",
      "Iteration  2. Log joint probability =    25.4712. Improved by 11.5028.\n",
      "Iteration  3. Log joint probability =    28.7753. Improved by 3.30413.\n",
      "Iteration  4. Log joint probability =    28.8677. Improved by 0.0923652.\n",
      "Iteration  5. Log joint probability =    28.9341. Improved by 0.0664115.\n",
      "Iteration  6. Log joint probability =    28.9722. Improved by 0.0380636.\n",
      "Iteration  7. Log joint probability =    28.9803. Improved by 0.00818319.\n",
      "Iteration  8. Log joint probability =    28.9883. Improved by 0.00794574.\n",
      "Iteration  9. Log joint probability =     29.002. Improved by 0.0137326.\n",
      "Iteration 10. Log joint probability =    29.0055. Improved by 0.00349886.\n",
      "Iteration 11. Log joint probability =     29.006. Improved by 0.000514559.\n",
      "Iteration 12. Log joint probability =    29.0068. Improved by 0.000803376.\n",
      "Iteration 13. Log joint probability =    29.0099. Improved by 0.00301265.\n",
      "Iteration 14. Log joint probability =    29.0101. Improved by 0.00023812.\n",
      "Iteration 15. Log joint probability =    29.0118. Improved by 0.00171637.\n",
      "Iteration 16. Log joint probability =    29.0125. Improved by 0.000686905.\n",
      "Iteration 17. Log joint probability =    29.0126. Improved by 0.000111902.\n",
      "Iteration 18. Log joint probability =     29.013. Improved by 0.000369119.\n",
      "Iteration 19. Log joint probability =     29.013. Improved by 7.40155e-05.\n",
      "Iteration 20. Log joint probability =    29.0132. Improved by 0.000106282.\n",
      "Iteration 21. Log joint probability =    29.0133. Improved by 0.000160123.\n",
      "Iteration 22. Log joint probability =    29.0134. Improved by 5.15267e-05.\n",
      "Iteration 23. Log joint probability =    29.0134. Improved by 6.98871e-06.\n",
      "Iteration 24. Log joint probability =    29.0134. Improved by 5.80716e-05.\n",
      "Iteration 25. Log joint probability =    29.0134. Improved by 1.73726e-05.\n",
      "Iteration 26. Log joint probability =    29.0135. Improved by 8.82222e-06.\n",
      "Iteration 27. Log joint probability =    29.0135. Improved by 8.43916e-06.\n",
      "Iteration 28. Log joint probability =    29.0135. Improved by 2.26814e-06.\n",
      "Iteration 29. Log joint probability =    29.0135. Improved by 4.42751e-06.\n",
      "Iteration 30. Log joint probability =    29.0135. Improved by 4.09499e-06.\n",
      "Iteration 31. Log joint probability =    29.0135. Improved by 3.06182e-06.\n",
      "Iteration 32. Log joint probability =    29.0135. Improved by 2.84471e-07.\n",
      "Iteration 33. Log joint probability =    29.0135. Improved by 5.87454e-07.\n",
      "Iteration 34. Log joint probability =    29.0135. Improved by 1.43578e-06.\n",
      "Iteration 35. Log joint probability =    29.0135. Improved by 1.01151e-06.\n",
      "Iteration 36. Log joint probability =    29.0135. Improved by 3.07546e-07.\n",
      "Iteration 37. Log joint probability =    29.0135. Improved by 1.80076e-07.\n",
      "Iteration 38. Log joint probability =    29.0135. Improved by 8.05549e-09.\n",
      "MAE: 307.648\n",
      "RMSE: 371.503\n"
     ]
    }
   ],
   "source": [
    "# 마지막 5년 제외시키기\n",
    "train = data.drop(df.index[-5:])\n",
    "y_true = data['y'][-5:].values\n",
    "\n",
    "# 모델 생성 후 학습\n",
    "model = Prophet()\n",
    "model.fit(train)\n",
    "\n",
    "\n",
    "# train set 마지막 5년 날짜 생성\n",
    "start_year = 2017\n",
    "end_year = start_year + 5\n",
    "\n",
    "last_5years = list()\n",
    "for year in range(start_year, end_year):\n",
    "    last_5years.append([str(year)])\n",
    "last_5years = pd.DataFrame(last_5years, columns=['ds'])\n",
    "last_5years['ds'] = pd.to_datetime(last_5years['ds'])\n",
    "\n",
    "# 예측과 비교 \n",
    "#MAE\n",
    "forecast = model.predict(last_5years)\n",
    "y_pred = forecast['yhat'].values\n",
    "from sklearn.metrics import mean_absolute_error\n",
    "mae = mean_absolute_error(y_true, y_pred)\n",
    "print('MAE: %.3f' % mae)\n",
    "\n",
    "#RMSE\n",
    "from sklearn.metrics import mean_squared_error\n",
    "\n",
    "rmse = np.sqrt(mean_squared_error(y_true, y_pred))\n",
    "print('RMSE: %.3f' % rmse)\n"
   ]
  },
  {
   "cell_type": "code",
   "execution_count": 249,
   "id": "efee0189",
   "metadata": {
    "ExecuteTime": {
     "end_time": "2023-06-02T09:59:59.683027Z",
     "start_time": "2023-06-02T09:59:59.584498Z"
    },
    "hidden": true,
    "scrolled": true
   },
   "outputs": [
    {
     "data": {
      "image/png": "[encoded data removed]",
      "text/plain": [
       "<Figure size 432x288 with 1 Axes>"
      ]
     },
     "metadata": {
      "needs_background": "light"
     },
     "output_type": "display_data"
    }
   ],
   "source": [
    "# 예측 결과 시각화\n",
    "plt.plot(y_true, label='Actual')\n",
    "plt.plot(y_pred, label='Predicted')\n",
    "plt.legend()\n",
    "plt.show()\n"
   ]
  },
  {
   "cell_type": "markdown",
   "id": "ae5d53f2",
   "metadata": {
    "heading_collapsed": true
   },
   "source": [
    "### 광주"
   ]
  },
  {
   "cell_type": "code",
   "execution_count": 219,
   "id": "d543580d",
   "metadata": {
    "ExecuteTime": {
     "end_time": "2023-06-02T08:12:06.881930Z",
     "start_time": "2023-06-02T08:12:06.874683Z"
    },
    "hidden": true
   },
   "outputs": [],
   "source": [
    "# 데이터 준비\n",
    "data = df_r[['index', '광주']]  # 날짜와 예측 대상 변수 선택\n",
    "data.columns = ['ds', 'y']  # 열 이름 변경\n"
   ]
  },
  {
   "cell_type": "markdown",
   "id": "dd696d25",
   "metadata": {
    "ExecuteTime": {
     "end_time": "2023-06-02T07:42:15.187457Z",
     "start_time": "2023-06-02T07:42:15.179147Z"
    },
    "hidden": true
   },
   "source": [
    "#### In-Sample Forecast\n",
    "\n",
    "우선 미래나 과거를 예측하기 전에 우리가 학습으로 사용한 데이터부터 잘 예측이 되는지 확인해 볼 필요가 있다.\n",
    "\n",
    "이를 In-Sample Forecast라고 하며, 이 결과를 검토함으로써 모델이 얼마나 좋은지 확인할 수 있다. 즉 train set을 얼마나 잘 학습했는가를 판단하는 것이다.\n",
    "\n"
   ]
  },
  {
   "cell_type": "code",
   "execution_count": 241,
   "id": "98a85d1e",
   "metadata": {
    "ExecuteTime": {
     "end_time": "2023-06-02T09:58:45.005392Z",
     "start_time": "2023-06-02T09:58:44.578191Z"
    },
    "hidden": true
   },
   "outputs": [
    {
     "name": "stderr",
     "output_type": "stream",
     "text": [
      "INFO:prophet:Disabling weekly seasonality. Run prophet with weekly_seasonality=True to override this.\n",
      "INFO:prophet:Disabling daily seasonality. Run prophet with daily_seasonality=True to override this.\n",
      "INFO:prophet:n_changepoints greater than number of observations. Using 19.\n"
     ]
    },
    {
     "name": "stdout",
     "output_type": "stream",
     "text": [
      "\n",
      "Initial log joint probability = -52.2407\n"
     ]
    },
    {
     "data": {
      "text/plain": [
       "<prophet.forecaster.Prophet at 0x7f965a37ea00>"
      ]
     },
     "execution_count": 241,
     "metadata": {},
     "output_type": "execute_result"
    },
    {
     "name": "stdout",
     "output_type": "stream",
     "text": [
      "Iteration  1. Log joint probability =    9.94733. Improved by 62.188.\n",
      "Iteration  2. Log joint probability =    35.5565. Improved by 25.6092.\n",
      "Iteration  3. Log joint probability =    35.5779. Improved by 0.0213547.\n",
      "Iteration  4. Log joint probability =    35.6052. Improved by 0.0273471.\n",
      "Iteration  5. Log joint probability =     35.675. Improved by 0.0697616.\n",
      "Iteration  6. Log joint probability =    36.3249. Improved by 0.649951.\n",
      "Iteration  7. Log joint probability =     36.361. Improved by 0.0360445.\n",
      "Iteration  8. Log joint probability =    36.4392. Improved by 0.0781728.\n",
      "Iteration  9. Log joint probability =    36.4603. Improved by 0.0211746.\n",
      "Iteration 10. Log joint probability =    36.5079. Improved by 0.0475167.\n",
      "Iteration 11. Log joint probability =    36.5314. Improved by 0.0235551.\n",
      "Iteration 12. Log joint probability =    36.6852. Improved by 0.153785.\n",
      "Iteration 13. Log joint probability =    36.8107. Improved by 0.125521.\n",
      "Iteration 14. Log joint probability =    36.8175. Improved by 0.00676415.\n",
      "Iteration 15. Log joint probability =    36.9468. Improved by 0.129284.\n",
      "Iteration 16. Log joint probability =    36.9896. Improved by 0.0428598.\n",
      "Iteration 17. Log joint probability =     37.088. Improved by 0.0983534.\n",
      "Iteration 18. Log joint probability =    37.1132. Improved by 0.0252214.\n",
      "Iteration 19. Log joint probability =    37.1139. Improved by 0.00073363.\n",
      "Iteration 20. Log joint probability =    37.4213. Improved by 0.307373.\n",
      "Iteration 21. Log joint probability =    37.4615. Improved by 0.0402196.\n",
      "Iteration 22. Log joint probability =    37.5039. Improved by 0.042369.\n",
      "Iteration 23. Log joint probability =    37.5432. Improved by 0.0392593.\n",
      "Iteration 24. Log joint probability =     37.883. Improved by 0.339875.\n",
      "Iteration 25. Log joint probability =    38.0395. Improved by 0.15651.\n",
      "Iteration 26. Log joint probability =    38.0479. Improved by 0.00837975.\n",
      "Iteration 27. Log joint probability =    38.1954. Improved by 0.147532.\n",
      "Iteration 28. Log joint probability =    38.2776. Improved by 0.0821293.\n",
      "Iteration 29. Log joint probability =    38.3523. Improved by 0.0747266.\n",
      "Iteration 30. Log joint probability =    38.3609. Improved by 0.0086072.\n",
      "Iteration 31. Log joint probability =    38.3938. Improved by 0.0328834.\n",
      "Iteration 32. Log joint probability =     38.402. Improved by 0.00823485.\n",
      "Iteration 33. Log joint probability =    38.4125. Improved by 0.0105201.\n",
      "Iteration 34. Log joint probability =    38.4156. Improved by 0.00308858.\n",
      "Iteration 35. Log joint probability =    38.4199. Improved by 0.00425369.\n",
      "Iteration 36. Log joint probability =    38.4235. Improved by 0.00365773.\n",
      "Iteration 37. Log joint probability =    38.4268. Improved by 0.00325176.\n",
      "Iteration 38. Log joint probability =    38.4272. Improved by 0.00038408.\n",
      "Iteration 39. Log joint probability =    38.4275. Improved by 0.000287725.\n",
      "Iteration 40. Log joint probability =    38.4277. Improved by 0.000244775.\n",
      "Iteration 41. Log joint probability =     38.428. Improved by 0.000250901.\n",
      "Iteration 42. Log joint probability =    38.4309. Improved by 0.00288766.\n",
      "Iteration 43. Log joint probability =    38.4311. Improved by 0.000288949.\n",
      "Iteration 44. Log joint probability =    38.4325. Improved by 0.00131132.\n",
      "Iteration 45. Log joint probability =    38.4327. Improved by 0.000289858.\n",
      "Iteration 46. Log joint probability =    38.4339. Improved by 0.00113615.\n",
      "Iteration 47. Log joint probability =    38.4346. Improved by 0.000684141.\n",
      "Iteration 48. Log joint probability =    38.4353. Improved by 0.000730325.\n",
      "Iteration 49. Log joint probability =    38.4354. Improved by 5.26317e-05.\n",
      "Iteration 50. Log joint probability =    38.4356. Improved by 0.000233366.\n",
      "Iteration 51. Log joint probability =     38.436. Improved by 0.000457999.\n",
      "Iteration 52. Log joint probability =    38.4363. Improved by 0.000239929.\n",
      "Iteration 53. Log joint probability =    38.4363. Improved by 6.23633e-05.\n",
      "Iteration 54. Log joint probability =    38.4364. Improved by 7.98276e-05.\n",
      "Iteration 55. Log joint probability =    38.4365. Improved by 2.92412e-05.\n",
      "Iteration 56. Log joint probability =    38.4365. Improved by 3.47844e-05.\n",
      "Iteration 57. Log joint probability =    38.4365. Improved by 1.13316e-05.\n",
      "Iteration 58. Log joint probability =    38.4365. Improved by 1.93161e-05.\n",
      "Iteration 59. Log joint probability =    38.4365. Improved by 2.15652e-05.\n",
      "Iteration 60. Log joint probability =    38.4366. Improved by 1.31643e-05.\n",
      "Iteration 61. Log joint probability =    38.4366. Improved by 4.64912e-06.\n",
      "Iteration 62. Log joint probability =    38.4366. Improved by 2.1692e-06.\n",
      "Iteration 63. Log joint probability =    38.4366. Improved by 8.15137e-06.\n",
      "Iteration 64. Log joint probability =    38.4366. Improved by 3.10917e-06.\n",
      "Iteration 65. Log joint probability =    38.4366. Improved by 3.21814e-07.\n",
      "Iteration 66. Log joint probability =    38.4366. Improved by 6.30203e-07.\n",
      "Iteration 67. Log joint probability =    38.4366. Improved by 1.49044e-06.\n",
      "Iteration 68. Log joint probability =    38.4366. Improved by 3.1686e-07.\n",
      "Iteration 69. Log joint probability =    38.4366. Improved by 7.9786e-07.\n",
      "Iteration 70. Log joint probability =    38.4366. Improved by 6.31573e-07.\n",
      "Iteration 71. Log joint probability =    38.4366. Improved by 1.53983e-07.\n",
      "Iteration 72. Log joint probability =    38.4366. Improved by 4.91277e-07.\n",
      "Iteration 73. Log joint probability =    38.4366. Improved by 1.83836e-07.\n",
      "Iteration 74. Log joint probability =    38.4366. Improved by 4.05438e-08.\n",
      "Iteration 75. Log joint probability =    38.4366. Improved by 5.47816e-08.\n",
      "Iteration 76. Log joint probability =    38.4366. Improved by 4.12274e-08.\n",
      "Iteration 77. Log joint probability =    38.4366. Improved by 3.86505e-09.\n"
     ]
    }
   ],
   "source": [
    "# 데이터 준비\n",
    "data = df_r[['index', '광주']]  # 날짜와 예측 대상 변수 선택\n",
    "data.columns = ['ds', 'y']  # 열 이름 변경\n",
    "\n",
    "#모델생성\n",
    "model = Prophet()\n",
    "\n",
    "# 모델 학습\n",
    "model.fit(data)"
   ]
  },
  {
   "cell_type": "code",
   "execution_count": 242,
   "id": "c0851003",
   "metadata": {
    "ExecuteTime": {
     "end_time": "2023-06-02T09:58:48.062373Z",
     "start_time": "2023-06-02T09:58:48.050760Z"
    },
    "hidden": true
   },
   "outputs": [],
   "source": [
    "# train set 마지막 5년 날짜 생성\n",
    "start_year = 2017\n",
    "end_year = start_year + 5\n",
    "\n",
    "last_5years = list()\n",
    "for year in range(start_year, end_year):\n",
    "    last_5years.append([str(year)])\n",
    "last_5years = pd.DataFrame(last_5years, columns=['ds'])\n",
    "last_5years['ds'] = pd.to_datetime(last_5years['ds'])"
   ]
  },
  {
   "cell_type": "code",
   "execution_count": 243,
   "id": "f5c54393",
   "metadata": {
    "ExecuteTime": {
     "end_time": "2023-06-02T09:58:49.047772Z",
     "start_time": "2023-06-02T09:58:48.559516Z"
    },
    "hidden": true
   },
   "outputs": [],
   "source": [
    "# 예측\n",
    "forecast = model.predict(last_5years)"
   ]
  },
  {
   "cell_type": "code",
   "execution_count": 244,
   "id": "247b6fbe",
   "metadata": {
    "ExecuteTime": {
     "end_time": "2023-06-02T09:59:00.302923Z",
     "start_time": "2023-06-02T09:59:00.148726Z"
    },
    "hidden": true
   },
   "outputs": [
    {
     "data": {
      "image/png": "[encoded data removed]",
      "text/plain": [
       "<Figure size 720x432 with 1 Axes>"
      ]
     },
     "metadata": {},
     "output_type": "display_data"
    }
   ],
   "source": [
    "model.plot(forecast)\n",
    "plt.show()"
   ]
  },
  {
   "cell_type": "markdown",
   "id": "8a8133d7",
   "metadata": {
    "hidden": true
   },
   "source": [
    "#### Out-Of-Sample Forecast\n",
    "이제 미래를 예측한다"
   ]
  },
  {
   "cell_type": "code",
   "execution_count": 246,
   "id": "20117956",
   "metadata": {
    "ExecuteTime": {
     "end_time": "2023-06-02T09:59:08.078880Z",
     "start_time": "2023-06-02T09:59:08.069287Z"
    },
    "hidden": true
   },
   "outputs": [],
   "source": [
    "start_year = 2022\n",
    "end_year = start_year + 5\n",
    "\n",
    "# train set 이후 5년  생성\n",
    "last_5years = list()\n",
    "for year in range(start_year, end_year):\n",
    "    last_5years.append([str(year)])\n",
    "last_5years = pd.DataFrame(last_5years, columns=['ds'])\n",
    "last_5years['ds'] = pd.to_datetime(last_5years['ds'])"
   ]
  },
  {
   "cell_type": "code",
   "execution_count": 247,
   "id": "4bed3ad3",
   "metadata": {
    "ExecuteTime": {
     "end_time": "2023-06-02T09:59:09.189058Z",
     "start_time": "2023-06-02T09:59:08.585945Z"
    },
    "hidden": true
   },
   "outputs": [
    {
     "data": {
      "image/png": "[encoded data removed]",
      "text/plain": [
       "<Figure size 720x432 with 1 Axes>"
      ]
     },
     "metadata": {},
     "output_type": "display_data"
    }
   ],
   "source": [
    "forecast = model.predict(last_5years)\n",
    "model.plot(forecast)\n",
    "plt.show()"
   ]
  },
  {
   "cell_type": "markdown",
   "id": "6ae15ec6",
   "metadata": {
    "hidden": true
   },
   "source": [
    "#### 평가"
   ]
  },
  {
   "cell_type": "code",
   "execution_count": 248,
   "id": "008a268f",
   "metadata": {
    "ExecuteTime": {
     "end_time": "2023-06-02T09:59:12.076001Z",
     "start_time": "2023-06-02T09:59:11.384919Z"
    },
    "hidden": true
   },
   "outputs": [
    {
     "name": "stderr",
     "output_type": "stream",
     "text": [
      "INFO:prophet:Disabling weekly seasonality. Run prophet with weekly_seasonality=True to override this.\n",
      "INFO:prophet:Disabling daily seasonality. Run prophet with daily_seasonality=True to override this.\n",
      "INFO:prophet:n_changepoints greater than number of observations. Using 15.\n"
     ]
    },
    {
     "name": "stdout",
     "output_type": "stream",
     "text": [
      "\n",
      "Initial log joint probability = -56.818\n",
      "Iteration  1. Log joint probability =     15.932. Improved by 72.75.\n",
      "Iteration  2. Log joint probability =    29.2262. Improved by 13.2942.\n",
      "Iteration  3. Log joint probability =     30.169. Improved by 0.94282.\n",
      "Iteration  4. Log joint probability =    30.2212. Improved by 0.0521711.\n",
      "Iteration  5. Log joint probability =    30.2237. Improved by 0.00246649.\n",
      "Iteration  6. Log joint probability =    30.2452. Improved by 0.0215197.\n",
      "Iteration  7. Log joint probability =    30.2543. Improved by 0.0091387.\n",
      "Iteration  8. Log joint probability =    30.2636. Improved by 0.00922987.\n",
      "Iteration  9. Log joint probability =    30.2703. Improved by 0.00677596.\n",
      "Iteration 10. Log joint probability =     30.274. Improved by 0.00360699.\n",
      "Iteration 11. Log joint probability =    30.2762. Improved by 0.00228518.\n",
      "Iteration 12. Log joint probability =    30.2794. Improved by 0.00319796.\n",
      "Iteration 13. Log joint probability =    30.2797. Improved by 0.000307734.\n",
      "Iteration 14. Log joint probability =    30.2812. Improved by 0.0014596.\n",
      "Iteration 15. Log joint probability =    30.2814. Improved by 0.000155984.\n",
      "Iteration 16. Log joint probability =    30.2815. Improved by 0.000153082.\n",
      "Iteration 17. Log joint probability =    30.2821. Improved by 0.000582987.\n",
      "Iteration 18. Log joint probability =    30.2823. Improved by 0.000186833.\n",
      "Iteration 19. Log joint probability =    30.2823. Improved by 6.05607e-05.\n",
      "Iteration 20. Log joint probability =    30.2827. Improved by 0.000319703.\n",
      "Iteration 21. Log joint probability =    30.2827. Improved by 6.18325e-05.\n",
      "Iteration 22. Log joint probability =    30.2828. Improved by 3.28442e-05.\n",
      "Iteration 23. Log joint probability =     30.283. Improved by 0.000240946.\n",
      "Iteration 24. Log joint probability =    30.2831. Improved by 0.000106208.\n",
      "Iteration 25. Log joint probability =    30.2831. Improved by 2.55698e-05.\n",
      "Iteration 26. Log joint probability =    30.2832. Improved by 2.69584e-05.\n",
      "Iteration 27. Log joint probability =    30.2832. Improved by 7.10841e-06.\n",
      "Iteration 28. Log joint probability =    30.2832. Improved by 9.35255e-06.\n",
      "Iteration 29. Log joint probability =    30.2832. Improved by 3.56915e-06.\n",
      "Iteration 30. Log joint probability =    30.2832. Improved by 3.67248e-06.\n",
      "Iteration 31. Log joint probability =    30.2832. Improved by 1.53642e-06.\n",
      "Iteration 32. Log joint probability =    30.2832. Improved by 2.04361e-06.\n",
      "Iteration 33. Log joint probability =    30.2832. Improved by 4.05484e-07.\n",
      "Iteration 34. Log joint probability =    30.2832. Improved by 5.8385e-07.\n",
      "Iteration 35. Log joint probability =    30.2832. Improved by 6.66714e-07.\n",
      "Iteration 36. Log joint probability =    30.2832. Improved by 1.06377e-06.\n",
      "Iteration 37. Log joint probability =    30.2832. Improved by 2.53252e-07.\n",
      "Iteration 38. Log joint probability =    30.2832. Improved by 3.37366e-07.\n",
      "Iteration 39. Log joint probability =    30.2832. Improved by 1.96386e-06.\n",
      "Iteration 40. Log joint probability =    30.2832. Improved by 6.64221e-07.\n",
      "Iteration 41. Log joint probability =    30.2832. Improved by 7.96143e-07.\n",
      "Iteration 42. Log joint probability =    30.2832. Improved by 6.1039e-07.\n",
      "Iteration 43. Log joint probability =    30.2832. Improved by 1.34975e-07.\n",
      "Iteration 44. Log joint probability =    30.2832. Improved by 5.11777e-07.\n",
      "Iteration 45. Log joint probability =    30.2832. Improved by 1.50201e-07.\n",
      "Iteration 46. Log joint probability =    30.2832. Improved by 3.30195e-07.\n",
      "Iteration 47. Log joint probability =    30.2832. Improved by 8.61699e-08.\n",
      "Iteration 48. Log joint probability =    30.2832. Improved by 3.40922e-08.\n",
      "Iteration 49. Log joint probability =    30.2832. Improved by 5.93328e-08.\n",
      "Iteration 50. Log joint probability =    30.2832. Improved by 3.24641e-08.\n",
      "Iteration 51. Log joint probability =    30.2832. Improved by 1.53952e-08.\n",
      "Iteration 52. Log joint probability =    30.2832. Improved by 1.22394e-08.\n",
      "Iteration 53. Log joint probability =    30.2832. Improved by 1.64886e-08.\n",
      "Iteration 54. Log joint probability =    30.2832. Improved by 2.47169e-08.\n",
      "Iteration 55. Log joint probability =    30.2832. Improved by 8.10914e-10.\n",
      "MAE: 26.353\n",
      "RMSE: 27.240\n"
     ]
    }
   ],
   "source": [
    "# 마지막 5년 제외시키기\n",
    "train = data.drop(df.index[-5:])\n",
    "y_true = data['y'][-5:].values\n",
    "\n",
    "# 모델 생성 후 학습\n",
    "model = Prophet()\n",
    "model.fit(train)\n",
    "\n",
    "\n",
    "# train set 마지막 5년 날짜 생성\n",
    "start_year = 2017\n",
    "end_year = start_year + 5\n",
    "\n",
    "last_5years = list()\n",
    "for year in range(start_year, end_year):\n",
    "    last_5years.append([str(year)])\n",
    "last_5years = pd.DataFrame(last_5years, columns=['ds'])\n",
    "last_5years['ds'] = pd.to_datetime(last_5years['ds'])\n",
    "\n",
    "# 예측과 비교 \n",
    "#MAE\n",
    "forecast = model.predict(last_5years)\n",
    "y_pred = forecast['yhat'].values\n",
    "from sklearn.metrics import mean_absolute_error\n",
    "mae = mean_absolute_error(y_true, y_pred)\n",
    "print('MAE: %.3f' % mae)\n",
    "\n",
    "#RMSE\n",
    "from sklearn.metrics import mean_squared_error\n",
    "\n",
    "rmse = np.sqrt(mean_squared_error(y_true, y_pred))\n",
    "print('RMSE: %.3f' % rmse)\n"
   ]
  },
  {
   "cell_type": "code",
   "execution_count": 249,
   "id": "bfb1803f",
   "metadata": {
    "ExecuteTime": {
     "end_time": "2023-06-02T09:59:59.683027Z",
     "start_time": "2023-06-02T09:59:59.584498Z"
    },
    "hidden": true,
    "scrolled": true
   },
   "outputs": [
    {
     "data": {
      "image/png": "[encoded data removed]",
      "text/plain": [
       "<Figure size 432x288 with 1 Axes>"
      ]
     },
     "metadata": {
      "needs_background": "light"
     },
     "output_type": "display_data"
    }
   ],
   "source": [
    "# 예측 결과 시각화\n",
    "plt.plot(y_true, label='Actual')\n",
    "plt.plot(y_pred, label='Predicted')\n",
    "plt.legend()\n",
    "plt.show()\n"
   ]
  },
  {
   "cell_type": "code",
   "execution_count": null,
   "id": "04fedece",
   "metadata": {
    "hidden": true
   },
   "outputs": [],
   "source": [
    "# 데이터 준비\n",
    "data = df_r[['index', '서울']]  # 날짜와 예측 대상 변수 선택\n",
    "data.columns = ['ds', 'y']  # 열 이름 변경\n",
    "\n",
    "\n",
    "#### In-Sample Forecast\n",
    "\n",
    "우선 미래나 과거를 예측하기 전에 우리가 학습으로 사용한 데이터부터 잘 예측이 되는지 확인해 볼 필요가 있다.\n",
    "\n",
    "이를 In-Sample Forecast라고 하며, 이 결과를 검토함으로써 모델이 얼마나 좋은지 확인할 수 있다. 즉 train set을 얼마나 잘 학습했는가를 판단하는 것이다.\n",
    "\n",
    "\n",
    "\n",
    "# 데이터 준비\n",
    "data = df_r[['index', '광주']]  # 날짜와 예측 대상 변수 선택\n",
    "data.columns = ['ds', 'y']  # 열 이름 변경\n",
    "\n",
    "#모델생성\n",
    "model = Prophet()\n",
    "\n",
    "# 모델 학습\n",
    "model.fit(data)\n",
    "\n",
    "# train set 마지막 5년 날짜 생성\n",
    "start_year = 2017\n",
    "end_year = start_year + 5\n",
    "\n",
    "last_5years = list()\n",
    "for year in range(start_year, end_year):\n",
    "    last_5years.append([str(year)])\n",
    "last_5years = pd.DataFrame(last_5years, columns=['ds'])\n",
    "last_5years['ds'] = pd.to_datetime(last_5years['ds'])\n",
    "\n",
    "# 예측\n",
    "forecast = model.predict(last_5years)\n",
    "\n",
    "model.plot(forecast)\n",
    "plt.show()\n",
    "\n",
    "#### Out-Of-Sample Forecast\n",
    "이제 미래를 예측한다\n",
    "\n",
    "start_year = 2022\n",
    "end_year = start_year + 5\n",
    "\n",
    "# train set 이후 5년  생성\n",
    "last_5years = list()\n",
    "for year in range(start_year, end_year):\n",
    "    last_5years.append([str(year)])\n",
    "last_5years = pd.DataFrame(last_5years, columns=['ds'])\n",
    "last_5years['ds'] = pd.to_datetime(last_5years['ds'])\n",
    "\n",
    "forecast = model.predict(last_5years)\n",
    "model.plot(forecast)\n",
    "plt.show()\n",
    "\n",
    "#### 평가\n",
    "\n",
    "# 마지막 5년 제외시키기\n",
    "train = data.drop(df.index[-5:])\n",
    "y_true = data['y'][-5:].values\n",
    "\n",
    "# 모델 생성 후 학습\n",
    "model = Prophet()\n",
    "model.fit(train)\n",
    "\n",
    "\n",
    "# train set 마지막 5년 날짜 생성\n",
    "start_year = 2017\n",
    "end_year = start_year + 5\n",
    "\n",
    "last_5years = list()\n",
    "for year in range(start_year, end_year):\n",
    "    last_5years.append([str(year)])\n",
    "last_5years = pd.DataFrame(last_5years, columns=['ds'])\n",
    "last_5years['ds'] = pd.to_datetime(last_5years['ds'])\n",
    "\n",
    "# 예측과 비교 \n",
    "#MAE\n",
    "forecast = model.predict(last_5years)\n",
    "y_pred = forecast['yhat'].values\n",
    "from sklearn.metrics import mean_absolute_error\n",
    "mae = mean_absolute_error(y_true, y_pred)\n",
    "print('MAE: %.3f' % mae)\n",
    "\n",
    "#RMSE\n",
    "from sklearn.metrics import mean_squared_error\n",
    "\n",
    "rmse = np.sqrt(mean_squared_error(y_true, y_pred))\n",
    "print('RMSE: %.3f' % rmse)\n",
    "\n",
    "\n",
    "# 예측 결과 시각화\n",
    "plt.plot(y_true, label='Actual')\n",
    "plt.plot(y_pred, label='Predicted')\n",
    "plt.legend()\n",
    "plt.show()\n",
    "\n",
    "\n",
    "\n",
    "\n"
   ]
  },
  {
   "cell_type": "markdown",
   "id": "f94795ef",
   "metadata": {
    "heading_collapsed": true
   },
   "source": [
    "### 제주"
   ]
  },
  {
   "cell_type": "code",
   "execution_count": 257,
   "id": "b63e2d44",
   "metadata": {
    "ExecuteTime": {
     "end_time": "2023-06-02T10:05:47.621601Z",
     "start_time": "2023-06-02T10:05:47.605065Z"
    },
    "hidden": true
   },
   "outputs": [],
   "source": [
    "# 데이터 준비\n",
    "data = df_r[['index', '제주']]  # 날짜와 예측 대상 변수 선택\n",
    "data.columns = ['ds', 'y']  # 열 이름 변경\n"
   ]
  },
  {
   "cell_type": "markdown",
   "id": "5195db4f",
   "metadata": {
    "ExecuteTime": {
     "end_time": "2023-06-02T07:42:15.187457Z",
     "start_time": "2023-06-02T07:42:15.179147Z"
    },
    "hidden": true
   },
   "source": [
    "#### In-Sample Forecast\n",
    "\n",
    "우선 미래나 과거를 예측하기 전에 우리가 학습으로 사용한 데이터부터 잘 예측이 되는지 확인해 볼 필요가 있다.\n",
    "\n",
    "이를 In-Sample Forecast라고 하며, 이 결과를 검토함으로써 모델이 얼마나 좋은지 확인할 수 있다. 즉 train set을 얼마나 잘 학습했는가를 판단하는 것이다.\n",
    "\n"
   ]
  },
  {
   "cell_type": "code",
   "execution_count": 258,
   "id": "cf23e121",
   "metadata": {
    "ExecuteTime": {
     "end_time": "2023-06-02T10:05:49.841040Z",
     "start_time": "2023-06-02T10:05:49.575135Z"
    },
    "hidden": true
   },
   "outputs": [
    {
     "name": "stderr",
     "output_type": "stream",
     "text": [
      "INFO:prophet:Disabling weekly seasonality. Run prophet with weekly_seasonality=True to override this.\n",
      "INFO:prophet:Disabling daily seasonality. Run prophet with daily_seasonality=True to override this.\n",
      "INFO:prophet:n_changepoints greater than number of observations. Using 19.\n"
     ]
    },
    {
     "data": {
      "text/plain": [
       "<prophet.forecaster.Prophet at 0x7f967b3112b0>"
      ]
     },
     "execution_count": 258,
     "metadata": {},
     "output_type": "execute_result"
    },
    {
     "name": "stdout",
     "output_type": "stream",
     "text": [
      "\n",
      "Initial log joint probability = -53.0239\n",
      "Iteration  1. Log joint probability =    15.3639. Improved by 68.3878.\n",
      "Iteration  2. Log joint probability =    25.0908. Improved by 9.72696.\n",
      "Iteration  3. Log joint probability =    35.8475. Improved by 10.7566.\n",
      "Iteration  4. Log joint probability =    36.9982. Improved by 1.15072.\n",
      "Iteration  5. Log joint probability =     37.316. Improved by 0.317827.\n",
      "Iteration  6. Log joint probability =    37.3474. Improved by 0.0314484.\n",
      "Iteration  7. Log joint probability =    37.3553. Improved by 0.00786619.\n",
      "Iteration  8. Log joint probability =    37.3945. Improved by 0.0391814.\n",
      "Iteration  9. Log joint probability =    37.4141. Improved by 0.0196043.\n",
      "Iteration 10. Log joint probability =    37.5163. Improved by 0.102228.\n",
      "Iteration 11. Log joint probability =    37.7458. Improved by 0.229498.\n",
      "Iteration 12. Log joint probability =    37.8309. Improved by 0.0850899.\n",
      "Iteration 13. Log joint probability =    37.8557. Improved by 0.0247767.\n",
      "Iteration 14. Log joint probability =    37.8756. Improved by 0.0199047.\n",
      "Iteration 15. Log joint probability =    37.8928. Improved by 0.0171581.\n",
      "Iteration 16. Log joint probability =    37.9148. Improved by 0.0220502.\n",
      "Iteration 17. Log joint probability =    37.9278. Improved by 0.0130045.\n",
      "Iteration 18. Log joint probability =    37.9345. Improved by 0.00666134.\n",
      "Iteration 19. Log joint probability =    37.9353. Improved by 0.000846852.\n",
      "Iteration 20. Log joint probability =    37.9498. Improved by 0.0144939.\n",
      "Iteration 21. Log joint probability =    37.9502. Improved by 0.000409628.\n",
      "Iteration 22. Log joint probability =    37.9559. Improved by 0.00570526.\n",
      "Iteration 23. Log joint probability =    37.9577. Improved by 0.00181893.\n",
      "Iteration 24. Log joint probability =    37.9617. Improved by 0.00397802.\n",
      "Iteration 25. Log joint probability =    37.9647. Improved by 0.0029294.\n",
      "Iteration 26. Log joint probability =    37.9656. Improved by 0.000953469.\n",
      "Iteration 27. Log joint probability =    37.9663. Improved by"
     ]
    }
   ],
   "source": [
    "# 데이터 준비\n",
    "data = df_r[['index', '제주']]  # 날짜와 예측 대상 변수 선택\n",
    "data.columns = ['ds', 'y']  # 열 이름 변경\n",
    "\n",
    "#모델생성\n",
    "model = Prophet()\n",
    "\n",
    "# 모델 학습\n",
    "model.fit(data)"
   ]
  },
  {
   "cell_type": "code",
   "execution_count": 259,
   "id": "9afda287",
   "metadata": {
    "ExecuteTime": {
     "end_time": "2023-06-02T10:05:51.528886Z",
     "start_time": "2023-06-02T10:05:51.515225Z"
    },
    "hidden": true
   },
   "outputs": [],
   "source": [
    "# train set 마지막 5년 날짜 생성\n",
    "start_year = 2017\n",
    "end_year = start_year + 5\n",
    "\n",
    "last_5years = list()\n",
    "for year in range(start_year, end_year):\n",
    "    last_5years.append([str(year)])\n",
    "last_5years = pd.DataFrame(last_5years, columns=['ds'])\n",
    "last_5years['ds'] = pd.to_datetime(last_5years['ds'])"
   ]
  },
  {
   "cell_type": "code",
   "execution_count": 261,
   "id": "38f1e799",
   "metadata": {
    "ExecuteTime": {
     "end_time": "2023-06-02T10:06:08.986785Z",
     "start_time": "2023-06-02T10:06:08.437952Z"
    },
    "hidden": true
   },
   "outputs": [],
   "source": [
    "# 예측\n",
    "forecast = model.predict(last_5years)"
   ]
  },
  {
   "cell_type": "code",
   "execution_count": 262,
   "id": "8155f895",
   "metadata": {
    "ExecuteTime": {
     "end_time": "2023-06-02T10:06:11.457624Z",
     "start_time": "2023-06-02T10:06:11.314733Z"
    },
    "hidden": true
   },
   "outputs": [
    {
     "data": {
      "image/png": "[encoded data removed]",
      "text/plain": [
       "<Figure size 720x432 with 1 Axes>"
      ]
     },
     "metadata": {},
     "output_type": "display_data"
    }
   ],
   "source": [
    "model.plot(forecast)\n",
    "plt.show()"
   ]
  },
  {
   "cell_type": "markdown",
   "id": "36ed4b18",
   "metadata": {
    "hidden": true
   },
   "source": [
    "#### Out-Of-Sample Forecast\n",
    "이제 미래를 예측한다"
   ]
  },
  {
   "cell_type": "code",
   "execution_count": 263,
   "id": "2faa549b",
   "metadata": {
    "ExecuteTime": {
     "end_time": "2023-06-02T10:06:14.613454Z",
     "start_time": "2023-06-02T10:06:14.602221Z"
    },
    "hidden": true
   },
   "outputs": [],
   "source": [
    "start_year = 2022\n",
    "end_year = start_year + 5\n",
    "\n",
    "# train set 이후 5년  생성\n",
    "last_5years = list()\n",
    "for year in range(start_year, end_year):\n",
    "    last_5years.append([str(year)])\n",
    "last_5years = pd.DataFrame(last_5years, columns=['ds'])\n",
    "last_5years['ds'] = pd.to_datetime(last_5years['ds'])"
   ]
  },
  {
   "cell_type": "code",
   "execution_count": 264,
   "id": "99ab501d",
   "metadata": {
    "ExecuteTime": {
     "end_time": "2023-06-02T10:06:16.883984Z",
     "start_time": "2023-06-02T10:06:16.233402Z"
    },
    "hidden": true
   },
   "outputs": [
    {
     "data": {
      "image/png": "[encoded data removed]",
      "text/plain": [
       "<Figure size 720x432 with 1 Axes>"
      ]
     },
     "metadata": {},
     "output_type": "display_data"
    }
   ],
   "source": [
    "forecast = model.predict(last_5years)\n",
    "model.plot(forecast)\n",
    "plt.show()"
   ]
  },
  {
   "cell_type": "markdown",
   "id": "4abbad79",
   "metadata": {
    "hidden": true
   },
   "source": [
    "#### 평가"
   ]
  },
  {
   "cell_type": "code",
   "execution_count": 265,
   "id": "be821113",
   "metadata": {
    "ExecuteTime": {
     "end_time": "2023-06-02T10:06:19.415820Z",
     "start_time": "2023-06-02T10:06:18.689628Z"
    },
    "hidden": true
   },
   "outputs": [
    {
     "name": "stderr",
     "output_type": "stream",
     "text": [
      "INFO:prophet:Disabling weekly seasonality. Run prophet with weekly_seasonality=True to override this.\n",
      "INFO:prophet:Disabling daily seasonality. Run prophet with daily_seasonality=True to override this.\n",
      "INFO:prophet:n_changepoints greater than number of observations. Using 15.\n"
     ]
    },
    {
     "name": "stdout",
     "output_type": "stream",
     "text": [
      "\n",
      "Initial log joint probability = -57.3781\n",
      "Iteration  1. Log joint probability =    12.0869. Improved by 69.465.\n",
      "Iteration  2. Log joint probability =    24.4675. Improved by 12.3806.\n",
      "Iteration  3. Log joint probability =    27.1746. Improved by 2.7071.\n",
      "Iteration  4. Log joint probability =    28.2166. Improved by 1.04196.\n",
      "Iteration  5. Log joint probability =    28.5265. Improved by 0.30991.\n",
      "Iteration  6. Log joint probability =    28.5379. Improved by 0.0114228.\n",
      "Iteration  7. Log joint probability =    28.6287. Improved by 0.0907743.\n",
      "Iteration  8. Log joint probability =    28.7378. Improved by 0.109119.\n",
      "Iteration  9. Log joint probability =    28.7651. Improved by 0.0272845.\n",
      "Iteration 10. Log joint probability =    28.8619. Improved by 0.0968041.\n",
      "Iteration 11. Log joint probability =    29.0044. Improved by 0.142523.\n",
      "Iteration 12. Log joint probability =    29.1273. Improved by 0.1229.\n",
      "Iteration 13. Log joint probability =    29.1302. Improved by 0.00291347.\n",
      "Iteration 14. Log joint probability =     29.238. Improved by 0.10784.\n",
      "Iteration 15. Log joint probability =    29.2863. Improved by 0.0482321.\n",
      "Iteration 16. Log joint probability =    29.3291. Improved by 0.0428604.\n",
      "Iteration 17. Log joint probability =    29.3519. Improved by 0.0227243.\n",
      "Iteration 18. Log joint probability =    29.3643. Improved by 0.0123926.\n",
      "Iteration 19. Log joint probability =    29.3655. Improved by 0.00128953.\n",
      "Iteration 20. Log joint probability =    29.3686. Improved by 0.00310776.\n",
      "Iteration 21. Log joint probability =    29.3712. Improved by 0.00254045.\n",
      "Iteration 22. Log joint probability =    29.3718. Improved by 0.000573195.\n",
      "Iteration 23. Log joint probability =    29.3739. Improved by 0.00215271.\n",
      "Iteration 24. Log joint probability =    29.3753. Improved by 0.00135586.\n",
      "Iteration 25. Log joint probability =    29.3766. Improved by 0.00132724.\n",
      "Iteration 26. Log joint probability =     29.377. Improved by 0.000368458.\n",
      "Iteration 27. Log joint probability =    29.3775. Improved by 0.000525346.\n",
      "Iteration 28. Log joint probability =    29.3777. Improved by 0.000163569.\n",
      "Iteration 29. Log joint probability =    29.3781. Improved by 0.00042551.\n",
      "Iteration 30. Log joint probability =    29.3783. Improved by 0.000193684.\n",
      "Iteration 31. Log joint probability =    29.3783. Improved by 6.20225e-05.\n",
      "Iteration 32. Log joint probability =    29.3783. Improved by 9.09436e-06.\n",
      "Iteration 33. Log joint probability =    29.3784. Improved by 4.35859e-05.\n",
      "Iteration 34. Log joint probability =    29.3784. Improved by 2.38863e-05.\n",
      "Iteration 35. Log joint probability =    29.3784. Improved by 3.52773e-05.\n",
      "Iteration 36. Log joint probability =    29.3785. Improved by 3.75639e-06.\n",
      "Iteration 37. Log joint probability =    29.3785. Improved by 2.84804e-05.\n",
      "Iteration 38. Log joint probability =    29.3785. Improved by 6.53425e-06.\n",
      "Iteration 39. Log joint probability =    29.3785. Improved by 5.53622e-06.\n",
      "Iteration 40. Log joint probability =    29.3785. Improved by 3.22509e-06.\n",
      "Iteration 41. Log joint probability =    29.3785. Improved by 5.80251e-06.\n",
      "Iteration 42. Log joint probability =    29.3785. Improved by 3.16084e-06.\n",
      "Iteration 43. Log joint probability =    29.3785. Improved by 3.73055e-07.\n",
      "Iteration 44. Log joint probability =    29.3785. Improved by 1.29402e-06.\n",
      "Iteration 45. Log joint probability =    29.3785. Improved by 1.23238e-06.\n",
      "Iteration 46. Log joint probability =    29.3785. Improved by 5.81468e-07.\n",
      "Iteration 47. Log joint probability =    29.3785. Improved by 6.81874e-07.\n",
      "Iteration 48. Log joint probability =    29.3785. Improved by 1.58395e-07.\n",
      "Iteration 49. Log joint probability =    29.3785. Improved by 6.06613e-07.\n",
      "Iteration 50. Log joint probability =    29.3785. Improved by 9.90935e-08.\n",
      "Iteration 51. Log joint probability =    29.3785. Improved by 1.56134e-08.\n",
      "Iteration 52. Log joint probability =    29.3785. Improved by 2.72718e-08.\n",
      "Iteration 53. Log joint probability =    29.3785. Improved by 7.74012e-09.\n",
      "MAE: 25.751\n",
      "RMSE: 32.029\n"
     ]
    }
   ],
   "source": [
    "# 마지막 5년 제외시키기\n",
    "train = data.drop(df.index[-5:])\n",
    "y_true = data['y'][-5:].values\n",
    "\n",
    "# 모델 생성 후 학습\n",
    "model = Prophet()\n",
    "model.fit(train)\n",
    "\n",
    "\n",
    "# train set 마지막 5년 날짜 생성\n",
    "start_year = 2017\n",
    "end_year = start_year + 5\n",
    "\n",
    "last_5years = list()\n",
    "for year in range(start_year, end_year):\n",
    "    last_5years.append([str(year)])\n",
    "last_5years = pd.DataFrame(last_5years, columns=['ds'])\n",
    "last_5years['ds'] = pd.to_datetime(last_5years['ds'])\n",
    "\n",
    "# 예측과 비교 \n",
    "#MAE\n",
    "forecast = model.predict(last_5years)\n",
    "y_pred = forecast['yhat'].values\n",
    "from sklearn.metrics import mean_absolute_error\n",
    "mae = mean_absolute_error(y_true, y_pred)\n",
    "print('MAE: %.3f' % mae)\n",
    "\n",
    "#RMSE\n",
    "from sklearn.metrics import mean_squared_error\n",
    "\n",
    "rmse = np.sqrt(mean_squared_error(y_true, y_pred))\n",
    "print('RMSE: %.3f' % rmse)\n"
   ]
  },
  {
   "cell_type": "code",
   "execution_count": 249,
   "id": "2cf15edf",
   "metadata": {
    "ExecuteTime": {
     "end_time": "2023-06-02T09:59:59.683027Z",
     "start_time": "2023-06-02T09:59:59.584498Z"
    },
    "hidden": true,
    "scrolled": true
   },
   "outputs": [
    {
     "data": {
      "image/png": "[encoded data removed]",
      "text/plain": [
       "<Figure size 432x288 with 1 Axes>"
      ]
     },
     "metadata": {
      "needs_background": "light"
     },
     "output_type": "display_data"
    }
   ],
   "source": [
    "# 예측 결과 시각화\n",
    "plt.plot(y_true, label='Actual')\n",
    "plt.plot(y_pred, label='Predicted')\n",
    "plt.legend()\n",
    "plt.show()\n"
   ]
  }
 ],
 "metadata": {
  "kernelspec": {
   "display_name": "Python 3 (ipykernel)",
   "language": "python",
   "name": "python3"
  },
  "language_info": {
   "codemirror_mode": {
    "name": "ipython",
    "version": 3
   },
   "file_extension": ".py",
   "mimetype": "text/x-python",
   "name": "python",
   "nbconvert_exporter": "python",
   "pygments_lexer": "ipython3",
   "version": "3.9.12"
  },
  "toc": {
   "base_numbering": 1,
   "nav_menu": {},
   "number_sections": true,
   "sideBar": true,
   "skip_h1_title": false,
   "title_cell": "Table of Contents",
   "title_sidebar": "Contents",
   "toc_cell": false,
   "toc_position": {},
   "toc_section_display": true,
   "toc_window_display": false
  },
  "varInspector": {
   "cols": {
    "lenName": 16,
    "lenType": 16,
    "lenVar": 40
   },
   "kernels_config": {
    "python": {
     "delete_cmd_postfix": "",
     "delete_cmd_prefix": "del ",
     "library": "var_list.py",
     "varRefreshCmd": "print(var_dic_list())"
    },
    "r": {
     "delete_cmd_postfix": ") ",
     "delete_cmd_prefix": "rm(",
     "library": "var_list.r",
     "varRefreshCmd": "cat(var_dic_list()) "
    }
   },
   "types_to_exclude": [
    "module",
    "function",
    "builtin_function_or_method",
    "instance",
    "_Feature"
   ],
   "window_display": false
  }
 },
 "nbformat": 4,
 "nbformat_minor": 5
}
